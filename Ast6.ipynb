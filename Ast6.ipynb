{
  "nbformat": 4,
  "nbformat_minor": 0,
  "metadata": {
    "colab": {
      "name": "Ast6.ipynb",
      "provenance": [],
      "authorship_tag": "ABX9TyM1NqXdKnip6naG2PwZKVUS",
      "include_colab_link": true
    },
    "kernelspec": {
      "name": "python3",
      "display_name": "Python 3"
    },
    "language_info": {
      "name": "python"
    }
  },
  "cells": [
    {
      "cell_type": "markdown",
      "metadata": {
        "id": "view-in-github",
        "colab_type": "text"
      },
      "source": [
        "<a href=\"https://colab.research.google.com/github/Jmsperdue/machineLearningNoteBooks/blob/MultiLayerPerceptron/Ast6.ipynb\" target=\"_parent\"><img src=\"https://colab.research.google.com/assets/colab-badge.svg\" alt=\"Open In Colab\"/></a>"
      ]
    },
    {
      "cell_type": "markdown",
      "metadata": {
        "id": "bqqRc99lCWPw"
      },
      "source": [
        "# **Assignment #6**\n",
        "**James Perdue 1012457081** \n",
        "\n",
        "**Daniel Schaefer 2001714504**\n",
        "# **Multi-Layer Perception (MLP) Classifier:**\n",
        "\n",
        "For this model we used the [banknote authentication Data Set](https://archive.ics.uci.edu/ml/datasets/banknote+authentication) from UCI machine learning repository. The Goal of our model is to take the attributes and properly seperate forged bank notes from genuine ones."
      ]
    },
    {
      "cell_type": "markdown",
      "metadata": {
        "id": "gYlua36mtX07"
      },
      "source": [
        "# ***Import Dataset***\n",
        "We converted the text file to a csv and added col 1 col 2 col 3 col 4 and class to make things easier and here is the key for the attributes and their meanings\n",
        "\n",
        "Column 1. variance of Wavelet Transformed image (continuous)\n",
        "\n",
        "Column 2. skewness of Wavelet Transformed image (continuous)\n",
        "\n",
        "Column 3. curtosis of Wavelet Transformed image (continuous)\n",
        "\n",
        "Column 4. entropy of image (continuous)\n",
        "\n",
        "Column 5. class (integer) "
      ]
    },
    {
      "cell_type": "code",
      "metadata": {
        "colab": {
          "base_uri": "https://localhost:8080/",
          "height": 424
        },
        "id": "7yDVEPBQSdBN",
        "outputId": "7524c687-9a7d-4292-e6f3-d81d0dd21a07"
      },
      "source": [
        "import pandas as pd\n",
        "df = pd.read_csv('banknote.csv',sep=',')\n",
        "df"
      ],
      "execution_count": null,
      "outputs": [
        {
          "output_type": "execute_result",
          "data": {
            "text/html": [
              "<div>\n",
              "<style scoped>\n",
              "    .dataframe tbody tr th:only-of-type {\n",
              "        vertical-align: middle;\n",
              "    }\n",
              "\n",
              "    .dataframe tbody tr th {\n",
              "        vertical-align: top;\n",
              "    }\n",
              "\n",
              "    .dataframe thead th {\n",
              "        text-align: right;\n",
              "    }\n",
              "</style>\n",
              "<table border=\"1\" class=\"dataframe\">\n",
              "  <thead>\n",
              "    <tr style=\"text-align: right;\">\n",
              "      <th></th>\n",
              "      <th>col 1</th>\n",
              "      <th>col 2</th>\n",
              "      <th>col 3</th>\n",
              "      <th>col 4</th>\n",
              "      <th>class</th>\n",
              "    </tr>\n",
              "  </thead>\n",
              "  <tbody>\n",
              "    <tr>\n",
              "      <th>0</th>\n",
              "      <td>3.62160</td>\n",
              "      <td>8.66610</td>\n",
              "      <td>-2.8073</td>\n",
              "      <td>-0.44699</td>\n",
              "      <td>0</td>\n",
              "    </tr>\n",
              "    <tr>\n",
              "      <th>1</th>\n",
              "      <td>4.54590</td>\n",
              "      <td>8.16740</td>\n",
              "      <td>-2.4586</td>\n",
              "      <td>-1.46210</td>\n",
              "      <td>0</td>\n",
              "    </tr>\n",
              "    <tr>\n",
              "      <th>2</th>\n",
              "      <td>3.86600</td>\n",
              "      <td>-2.63830</td>\n",
              "      <td>1.9242</td>\n",
              "      <td>0.10645</td>\n",
              "      <td>0</td>\n",
              "    </tr>\n",
              "    <tr>\n",
              "      <th>3</th>\n",
              "      <td>3.45660</td>\n",
              "      <td>9.52280</td>\n",
              "      <td>-4.0112</td>\n",
              "      <td>-3.59440</td>\n",
              "      <td>0</td>\n",
              "    </tr>\n",
              "    <tr>\n",
              "      <th>4</th>\n",
              "      <td>0.32924</td>\n",
              "      <td>-4.45520</td>\n",
              "      <td>4.5718</td>\n",
              "      <td>-0.98880</td>\n",
              "      <td>0</td>\n",
              "    </tr>\n",
              "    <tr>\n",
              "      <th>...</th>\n",
              "      <td>...</td>\n",
              "      <td>...</td>\n",
              "      <td>...</td>\n",
              "      <td>...</td>\n",
              "      <td>...</td>\n",
              "    </tr>\n",
              "    <tr>\n",
              "      <th>1367</th>\n",
              "      <td>0.40614</td>\n",
              "      <td>1.34920</td>\n",
              "      <td>-1.4501</td>\n",
              "      <td>-0.55949</td>\n",
              "      <td>1</td>\n",
              "    </tr>\n",
              "    <tr>\n",
              "      <th>1368</th>\n",
              "      <td>-1.38870</td>\n",
              "      <td>-4.87730</td>\n",
              "      <td>6.4774</td>\n",
              "      <td>0.34179</td>\n",
              "      <td>1</td>\n",
              "    </tr>\n",
              "    <tr>\n",
              "      <th>1369</th>\n",
              "      <td>-3.75030</td>\n",
              "      <td>-13.45860</td>\n",
              "      <td>17.5932</td>\n",
              "      <td>-2.77710</td>\n",
              "      <td>1</td>\n",
              "    </tr>\n",
              "    <tr>\n",
              "      <th>1370</th>\n",
              "      <td>-3.56370</td>\n",
              "      <td>-8.38270</td>\n",
              "      <td>12.3930</td>\n",
              "      <td>-1.28230</td>\n",
              "      <td>1</td>\n",
              "    </tr>\n",
              "    <tr>\n",
              "      <th>1371</th>\n",
              "      <td>-2.54190</td>\n",
              "      <td>-0.65804</td>\n",
              "      <td>2.6842</td>\n",
              "      <td>1.19520</td>\n",
              "      <td>1</td>\n",
              "    </tr>\n",
              "  </tbody>\n",
              "</table>\n",
              "<p>1372 rows × 5 columns</p>\n",
              "</div>"
            ],
            "text/plain": [
              "        col 1     col 2    col 3    col 4  class\n",
              "0     3.62160   8.66610  -2.8073 -0.44699      0\n",
              "1     4.54590   8.16740  -2.4586 -1.46210      0\n",
              "2     3.86600  -2.63830   1.9242  0.10645      0\n",
              "3     3.45660   9.52280  -4.0112 -3.59440      0\n",
              "4     0.32924  -4.45520   4.5718 -0.98880      0\n",
              "...       ...       ...      ...      ...    ...\n",
              "1367  0.40614   1.34920  -1.4501 -0.55949      1\n",
              "1368 -1.38870  -4.87730   6.4774  0.34179      1\n",
              "1369 -3.75030 -13.45860  17.5932 -2.77710      1\n",
              "1370 -3.56370  -8.38270  12.3930 -1.28230      1\n",
              "1371 -2.54190  -0.65804   2.6842  1.19520      1\n",
              "\n",
              "[1372 rows x 5 columns]"
            ]
          },
          "metadata": {},
          "execution_count": 265
        }
      ]
    },
    {
      "cell_type": "markdown",
      "metadata": {
        "id": "r1MHTgExuMqm"
      },
      "source": [
        "# **Define x and y** \n"
      ]
    },
    {
      "cell_type": "code",
      "metadata": {
        "id": "Q_syTZ4tUdJj"
      },
      "source": [
        "x=df.drop(['class'], axis=1).values\n",
        "y=df['class'].values"
      ],
      "execution_count": null,
      "outputs": []
    },
    {
      "cell_type": "markdown",
      "metadata": {
        "id": "WumYI7MxiAgk"
      },
      "source": [
        "# **Split the data set into training set and test set** \n"
      ]
    },
    {
      "cell_type": "code",
      "metadata": {
        "id": "R_1VSplEwekJ"
      },
      "source": [
        "from sklearn.model_selection import train_test_split\n",
        "X_train, X_test, y_train, y_test = train_test_split(x, y, test_size=0.8, random_state=1)"
      ],
      "execution_count": null,
      "outputs": []
    },
    {
      "cell_type": "markdown",
      "metadata": {
        "id": "vUqcyHlkt5qX"
      },
      "source": [
        "# **Hyper Parameter**\n",
        "\n",
        "Rather than picking 3 arbitrary combinations of model parameters, \n",
        "\n",
        "We tried to use HyperParameters to find the best three performing, but they were so close the results looked identical, so instead We Just opted to use it for one of our models.\n",
        "\n",
        "**Original HyperParameters:**\n",
        "\n",
        "**Solver:** ‘lbfgs’, ‘sgd’, ‘adam’\n",
        "\n",
        "**Learning Rate:**'constant', 'invscaling', 'adaptive'\n",
        "\n",
        "**Activator:** 'logistic', 'tanh', 'relu', 'identity'\n",
        "\n",
        "**Hidden Layer Sizes:** (100), (4),(4,2)\n",
        "\n",
        "**Alpha:** .1, 0.001, 0.0001\n",
        "\n",
        "In the end the best performing arguments were and we assigned them to clf1\n",
        "\n",
        "**Solver:** ‘adam’\n",
        "\n",
        "**Learning Rate:**'invscaling'\n",
        "\n",
        "**Activator:** 'identity'\n",
        "\n",
        "**Hidden Layer Sizes:** (4)\n",
        "\n",
        "**Alpha:**0.0001\n",
        "\n",
        "clf2's arguments were chosen at random\n",
        "\n",
        "clf3's are the defaults values"
      ]
    },
    {
      "cell_type": "code",
      "metadata": {
        "id": "E1Fvr5r5t5AF"
      },
      "source": [
        "from sklearn.model_selection import GridSearchCV\n",
        "from sklearn.neural_network import MLPClassifier\n",
        "from sklearn.preprocessing import StandardScaler\n",
        "from sklearn.pipeline import Pipeline\n",
        "\n",
        "\n",
        "#estimator = Pipeline(steps=[(\"scaler\", StandardScaler()),(\"estimator\", MLPClassifier(random_state=1, max_iter=1000))])\n",
        "#hidden_layer_sizes = [(4)]\n",
        "#hyper_parameter = [\n",
        "#                   {\n",
        "#                    'estimator__hidden_layer_sizes': hidden_layer_sizes,\n",
        "#                    #activation{‘identity’, ‘logistic’, ‘tanh’, ‘relu’}, default=’relu’  \n",
        "#                    'estimator__activation': ['identity', 'logistic', 'tanh', 'relu'],  \n",
        "#                    #solver{‘lbfgs’, ‘sgd’, ‘adam’}, default=’adam’\n",
        "#                    'estimator__solver': ['sgd', 'adam'],                                                     \n",
        "#                    #alpha float, default=0.0001\n",
        "#                    'estimator__alpha': [.0001,.001,],           \n",
        "#                    #learning_rate{‘constant’, ‘invscaling’, ‘adaptive’}, default=’constant’\n",
        "#                    'estimator__learning_rate' : ['constant','invscaling' ,'adaptive'],                                       \n",
        "#                   },\n",
        "#]\n",
        "#grid = GridSearchCV(estimator, hyper_parameter, refit=True, n_jobs=-1, cv=None,)\n",
        "#grid.fit(X_train, y_train)\n",
        "#grid_predictions = grid.predict(X_test)\n",
        "\n",
        "#params with good rank_test_score\n",
        "#good_df = pd.DataFrame(grid.cv_results_)\n",
        "#good_df = good_df.loc[good_df['rank_test_score'] <= 3]\n",
        "#good_df = good_df.loc[:, ~good_df.columns.isin(['mean_fit_time', 'std_fit_time', 'mean_score_time', 'std_score_time', 'split0_test_score', 'split1_test_score', 'split2_test_score', 'split3_test_score', 'split4_test_score', 'mean_test_score', 'std_test_score' , 'params'])]\n",
        "#good_df = good_df.reset_index(drop=True)"
      ],
      "execution_count": null,
      "outputs": []
    },
    {
      "cell_type": "markdown",
      "metadata": {
        "id": "qqLDDHb4Z5Ls"
      },
      "source": [
        "# **Train the Model on the training set**\n",
        "**To save time I commented out our HyperParameters and hardcoded the best results into clf1** \n"
      ]
    },
    {
      "cell_type": "code",
      "metadata": {
        "colab": {
          "base_uri": "https://localhost:8080/"
        },
        "id": "1rSdmmeK1mpU",
        "outputId": "d0340120-e311-49e8-b9b0-d84a1a31e762"
      },
      "source": [
        "#ran with hyper parameter \n",
        "clf1 = Pipeline(steps=[(\"scaler\", StandardScaler()), (\"clf\",MLPClassifier(learning_rate='invscaling', random_state=1, max_iter=1000,solver='adam', hidden_layer_sizes=(4), alpha =.0001, activation='identity' )),])\n",
        "#random\n",
        "clf2 = Pipeline(steps=[(\"scaler\", StandardScaler()), (\"clf\",MLPClassifier(learning_rate='adaptive', random_state=1, max_iter=1000,solver='sgd', hidden_layer_sizes=(4,2), alpha =.001, activation='identity' )),])\n",
        "#default arguments\n",
        "clf3 = Pipeline(steps=[(\"scaler\", StandardScaler()), (\"clf\",MLPClassifier(learning_rate='constant', random_state=1, max_iter=1000,solver='adam', hidden_layer_sizes=(100), alpha =.0001, activation='relu' )),])\n",
        "clf1.fit(X_train, y_train)\n",
        "clf2.fit(X_train, y_train)\n",
        "clf3.fit(X_train, y_train)\n"
      ],
      "execution_count": null,
      "outputs": [
        {
          "output_type": "execute_result",
          "data": {
            "text/plain": [
              "Pipeline(steps=[('scaler', StandardScaler()),\n",
              "                ('clf',\n",
              "                 MLPClassifier(hidden_layer_sizes=100, max_iter=1000,\n",
              "                               random_state=1))])"
            ]
          },
          "metadata": {},
          "execution_count": 269
        }
      ]
    },
    {
      "cell_type": "markdown",
      "metadata": {
        "id": "uiI8jO2ibRdf"
      },
      "source": [
        "# **Table of Convergence** "
      ]
    },
    {
      "cell_type": "code",
      "metadata": {
        "colab": {
          "base_uri": "https://localhost:8080/",
          "height": 143
        },
        "id": "Q123ZFIncGuD",
        "outputId": "8cc8753b-d33e-429b-bb33-bc55abc84ad7"
      },
      "source": [
        "records = [clf1.named_steps[\"clf\"].get_params() , clf2.named_steps[\"clf\"].get_params(), clf3.named_steps[\"clf\"].get_params() ]\n",
        "iter_array = [clf1.named_steps[\"clf\"].n_iter_ , clf2.named_steps[\"clf\"].n_iter_, clf3.named_steps[\"clf\"].n_iter_]\n",
        "model_array = [\"clf1\", \"clf2\", \"clf3\"]\n",
        "df = pd.DataFrame(records)\n",
        "df.insert(0,\"Model Name\", model_array)\n",
        "df.insert(1,\"Iterations till Convergence\", iter_array)\n",
        "converge = df.loc[:, ~df.columns.isin(['batch_size', 'beta_1', 'beta_2', 'early_stopping', 'epsilon', 'max_fun', 'max_iter', 'momentum', 'n_iter_no_change', 'nesterovs_momentum', 'power_t', 'random_state', 'shuffle', 'tol', 'validation_fraction', 'verbose', 'warm_start', 'learning_rate_init'])]\n",
        "converge"
      ],
      "execution_count": null,
      "outputs": [
        {
          "output_type": "execute_result",
          "data": {
            "text/html": [
              "<div>\n",
              "<style scoped>\n",
              "    .dataframe tbody tr th:only-of-type {\n",
              "        vertical-align: middle;\n",
              "    }\n",
              "\n",
              "    .dataframe tbody tr th {\n",
              "        vertical-align: top;\n",
              "    }\n",
              "\n",
              "    .dataframe thead th {\n",
              "        text-align: right;\n",
              "    }\n",
              "</style>\n",
              "<table border=\"1\" class=\"dataframe\">\n",
              "  <thead>\n",
              "    <tr style=\"text-align: right;\">\n",
              "      <th></th>\n",
              "      <th>Model Name</th>\n",
              "      <th>Iterations till Convergence</th>\n",
              "      <th>activation</th>\n",
              "      <th>alpha</th>\n",
              "      <th>hidden_layer_sizes</th>\n",
              "      <th>learning_rate</th>\n",
              "      <th>solver</th>\n",
              "    </tr>\n",
              "  </thead>\n",
              "  <tbody>\n",
              "    <tr>\n",
              "      <th>0</th>\n",
              "      <td>clf1</td>\n",
              "      <td>807</td>\n",
              "      <td>identity</td>\n",
              "      <td>0.0001</td>\n",
              "      <td>4</td>\n",
              "      <td>invscaling</td>\n",
              "      <td>adam</td>\n",
              "    </tr>\n",
              "    <tr>\n",
              "      <th>1</th>\n",
              "      <td>clf2</td>\n",
              "      <td>658</td>\n",
              "      <td>identity</td>\n",
              "      <td>0.0010</td>\n",
              "      <td>(4, 2)</td>\n",
              "      <td>adaptive</td>\n",
              "      <td>sgd</td>\n",
              "    </tr>\n",
              "    <tr>\n",
              "      <th>2</th>\n",
              "      <td>clf3</td>\n",
              "      <td>338</td>\n",
              "      <td>relu</td>\n",
              "      <td>0.0001</td>\n",
              "      <td>100</td>\n",
              "      <td>constant</td>\n",
              "      <td>adam</td>\n",
              "    </tr>\n",
              "  </tbody>\n",
              "</table>\n",
              "</div>"
            ],
            "text/plain": [
              "  Model Name  Iterations till Convergence  ... learning_rate  solver\n",
              "0       clf1                          807  ...    invscaling    adam\n",
              "1       clf2                          658  ...      adaptive     sgd\n",
              "2       clf3                          338  ...      constant    adam\n",
              "\n",
              "[3 rows x 7 columns]"
            ]
          },
          "metadata": {},
          "execution_count": 270
        }
      ]
    },
    {
      "cell_type": "markdown",
      "metadata": {
        "id": "xiX1W1ShiPY_"
      },
      "source": [
        "# **Predict the training set results and test set results**\n",
        "\n",
        "\n"
      ]
    },
    {
      "cell_type": "code",
      "metadata": {
        "cellView": "code",
        "id": "UklZr12RiTye"
      },
      "source": [
        "from sklearn.metrics import confusion_matrix\n",
        "#test set\n",
        "y1_pred = clf1.predict(X_test)\n",
        "y2_pred = clf2.predict(X_test)\n",
        "y3_pred = clf3.predict(X_test)\n",
        "#training set\n",
        "ytrain1_pred = clf1.predict(X_train)\n",
        "ytrain2_pred = clf2.predict(X_train)\n",
        "ytrain3_pred = clf3.predict(X_train)\n",
        "\n",
        "#test set\n",
        "cm1 = confusion_matrix(y_test, y1_pred)\n",
        "tn1,fp1,fn1,tp1 =cm1.ravel()\n",
        "n1 = tn1 + fp1 + fn1 + tp1\n",
        "cm2 = confusion_matrix(y_test, y2_pred)\n",
        "tn2,fp2,fn2,tp2 =cm2.ravel()\n",
        "n2 = tn2 + fp2 + fn2 + tp2\n",
        "cm3 = confusion_matrix(y_test, y3_pred)\n",
        "tn3,fp3,fn3,tp3 =cm3.ravel()\n",
        "n3 = tn3 + fp3 + fn3 + tp3\n",
        "\n",
        "#training set\n",
        "traincm1 = confusion_matrix(y_train, ytrain1_pred)\n",
        "atn1,afp1,afn1,atp1 =traincm1.ravel()\n",
        "an1 = atn1 + afp1 + afn1 + atp1\n",
        "traincm2 = confusion_matrix(y_train, ytrain2_pred)\n",
        "atn2,afp2,afn2,atp2 =traincm2.ravel()\n",
        "an2 = atn2 + afp2 + afn2 + atp2\n",
        "traincm3 = confusion_matrix(y_train, ytrain3_pred)\n",
        "atn3,afp3,afn3,atp3 =traincm3.ravel()\n",
        "an3 = atn3 + afp3 + afn3 + atp3"
      ],
      "execution_count": null,
      "outputs": []
    },
    {
      "cell_type": "markdown",
      "metadata": {
        "id": "Xc9OXeznbX0P"
      },
      "source": [
        "# **Table of Evaluation Metrics for the Test Dataset and Training Dataset**"
      ]
    },
    {
      "cell_type": "code",
      "metadata": {
        "colab": {
          "base_uri": "https://localhost:8080/",
          "height": 180
        },
        "id": "TvZ4JeIp1hEK",
        "outputId": "38ad588d-8223-4a5f-a403-dfd7a84b2420"
      },
      "source": [
        "from sklearn.metrics import accuracy_score\n",
        "from sklearn.metrics import recall_score\n",
        "from sklearn.metrics import f1_score\n",
        "from sklearn.metrics import log_loss\n",
        "\n",
        "metrics = [['clf1', accuracy_score(y_test, y1_pred), recall_score(y_test, y1_pred), (tn1/(tn1+fp1)), f1_score(y_test, y1_pred), log_loss(y_test, y1_pred)],\n",
        "           ['clf2', accuracy_score(y_test, y2_pred), recall_score(y_test, y2_pred), (tn2/(tn2+fp2)), f1_score(y_test, y2_pred), log_loss(y_test, y2_pred)],\n",
        "           ['clf3', accuracy_score(y_test, y3_pred), recall_score(y_test, y3_pred), (tn3/(tn3+fp3)), f1_score(y_test, y3_pred), log_loss(y_test, y3_pred)]]\n",
        "test_metrics = pd.DataFrame(metrics, columns = ['Model Name', 'Accuracy', 'Sensitivity', 'Specificity', 'F1 Score', 'Log Loss'])\n",
        "metrics = [['clf1', accuracy_score(y_train, ytrain1_pred), recall_score(y_train, ytrain1_pred), (atn1/(atn1+afp1)), f1_score(y_train, ytrain1_pred), log_loss(y_train, ytrain1_pred)],\n",
        "           ['clf2', accuracy_score(y_train, ytrain2_pred), recall_score(y_train, ytrain2_pred), (atn2/(atn2+afp2)), f1_score(y_train, ytrain2_pred), log_loss(y_train, ytrain2_pred)],\n",
        "           ['clf3', accuracy_score(y_train, ytrain3_pred), recall_score(y_train, ytrain3_pred), (atn3/(atn3+afp3)), f1_score(y_train, ytrain3_pred), log_loss(y_train, ytrain3_pred)]]\n",
        "train_metrics = pd.DataFrame(metrics, columns = ['Model Name', 'Accuracy', 'Sensitivity', 'Specificity', 'F1 Score', 'Log Loss'])\n",
        "print(\"Test Dataset\\n\")\n",
        "test_metrics"
      ],
      "execution_count": null,
      "outputs": [
        {
          "output_type": "stream",
          "name": "stdout",
          "text": [
            "Test Dataset\n",
            "\n"
          ]
        },
        {
          "output_type": "execute_result",
          "data": {
            "text/html": [
              "<div>\n",
              "<style scoped>\n",
              "    .dataframe tbody tr th:only-of-type {\n",
              "        vertical-align: middle;\n",
              "    }\n",
              "\n",
              "    .dataframe tbody tr th {\n",
              "        vertical-align: top;\n",
              "    }\n",
              "\n",
              "    .dataframe thead th {\n",
              "        text-align: right;\n",
              "    }\n",
              "</style>\n",
              "<table border=\"1\" class=\"dataframe\">\n",
              "  <thead>\n",
              "    <tr style=\"text-align: right;\">\n",
              "      <th></th>\n",
              "      <th>Model Name</th>\n",
              "      <th>Accuracy</th>\n",
              "      <th>Sensitivity</th>\n",
              "      <th>Specificity</th>\n",
              "      <th>F1 Score</th>\n",
              "      <th>Log Loss</th>\n",
              "    </tr>\n",
              "  </thead>\n",
              "  <tbody>\n",
              "    <tr>\n",
              "      <th>0</th>\n",
              "      <td>clf1</td>\n",
              "      <td>0.986339</td>\n",
              "      <td>1.000000</td>\n",
              "      <td>0.975369</td>\n",
              "      <td>0.984894</td>\n",
              "      <td>0.471852</td>\n",
              "    </tr>\n",
              "    <tr>\n",
              "      <th>1</th>\n",
              "      <td>clf2</td>\n",
              "      <td>0.978142</td>\n",
              "      <td>0.989775</td>\n",
              "      <td>0.968801</td>\n",
              "      <td>0.975806</td>\n",
              "      <td>0.754960</td>\n",
              "    </tr>\n",
              "    <tr>\n",
              "      <th>2</th>\n",
              "      <td>clf3</td>\n",
              "      <td>0.997268</td>\n",
              "      <td>1.000000</td>\n",
              "      <td>0.995074</td>\n",
              "      <td>0.996942</td>\n",
              "      <td>0.094370</td>\n",
              "    </tr>\n",
              "  </tbody>\n",
              "</table>\n",
              "</div>"
            ],
            "text/plain": [
              "  Model Name  Accuracy  Sensitivity  Specificity  F1 Score  Log Loss\n",
              "0       clf1  0.986339     1.000000     0.975369  0.984894  0.471852\n",
              "1       clf2  0.978142     0.989775     0.968801  0.975806  0.754960\n",
              "2       clf3  0.997268     1.000000     0.995074  0.996942  0.094370"
            ]
          },
          "metadata": {},
          "execution_count": 272
        }
      ]
    },
    {
      "cell_type": "code",
      "metadata": {
        "colab": {
          "base_uri": "https://localhost:8080/",
          "height": 180
        },
        "id": "Jj2gHtzvga7N",
        "outputId": "3a831c67-c4ab-4944-97af-65f999cfb4a8"
      },
      "source": [
        "print(\"Training Dataset\\n\")\n",
        "train_metrics"
      ],
      "execution_count": null,
      "outputs": [
        {
          "output_type": "stream",
          "name": "stdout",
          "text": [
            "Training Dataset\n",
            "\n"
          ]
        },
        {
          "output_type": "execute_result",
          "data": {
            "text/html": [
              "<div>\n",
              "<style scoped>\n",
              "    .dataframe tbody tr th:only-of-type {\n",
              "        vertical-align: middle;\n",
              "    }\n",
              "\n",
              "    .dataframe tbody tr th {\n",
              "        vertical-align: top;\n",
              "    }\n",
              "\n",
              "    .dataframe thead th {\n",
              "        text-align: right;\n",
              "    }\n",
              "</style>\n",
              "<table border=\"1\" class=\"dataframe\">\n",
              "  <thead>\n",
              "    <tr style=\"text-align: right;\">\n",
              "      <th></th>\n",
              "      <th>Model Name</th>\n",
              "      <th>Accuracy</th>\n",
              "      <th>Sensitivity</th>\n",
              "      <th>Specificity</th>\n",
              "      <th>F1 Score</th>\n",
              "      <th>Log Loss</th>\n",
              "    </tr>\n",
              "  </thead>\n",
              "  <tbody>\n",
              "    <tr>\n",
              "      <th>0</th>\n",
              "      <td>clf1</td>\n",
              "      <td>0.981752</td>\n",
              "      <td>1.0</td>\n",
              "      <td>0.96732</td>\n",
              "      <td>0.979757</td>\n",
              "      <td>6.302842e-01</td>\n",
              "    </tr>\n",
              "    <tr>\n",
              "      <th>1</th>\n",
              "      <td>clf2</td>\n",
              "      <td>0.981752</td>\n",
              "      <td>1.0</td>\n",
              "      <td>0.96732</td>\n",
              "      <td>0.979757</td>\n",
              "      <td>6.302842e-01</td>\n",
              "    </tr>\n",
              "    <tr>\n",
              "      <th>2</th>\n",
              "      <td>clf3</td>\n",
              "      <td>1.000000</td>\n",
              "      <td>1.0</td>\n",
              "      <td>1.00000</td>\n",
              "      <td>1.000000</td>\n",
              "      <td>9.992007e-16</td>\n",
              "    </tr>\n",
              "  </tbody>\n",
              "</table>\n",
              "</div>"
            ],
            "text/plain": [
              "  Model Name  Accuracy  Sensitivity  Specificity  F1 Score      Log Loss\n",
              "0       clf1  0.981752          1.0      0.96732  0.979757  6.302842e-01\n",
              "1       clf2  0.981752          1.0      0.96732  0.979757  6.302842e-01\n",
              "2       clf3  1.000000          1.0      1.00000  1.000000  9.992007e-16"
            ]
          },
          "metadata": {},
          "execution_count": 273
        }
      ]
    },
    {
      "cell_type": "code",
      "metadata": {
        "colab": {
          "base_uri": "https://localhost:8080/",
          "height": 479
        },
        "id": "Noxxo4eHngdY",
        "outputId": "61c68671-4509-47ca-80af-4341f869508e"
      },
      "source": [
        "import matplotlib.pyplot as plt\n",
        "import seaborn as sn\n",
        "\n",
        "print(\"clf1 Confusion Matrix\")\n",
        "plt.figure(figsize = (10,7))\n",
        "sn.heatmap(cm1, annot=True, fmt ='g')\n",
        "plt.xlabel('Predicted')\n",
        "plt.ylabel('Actual')"
      ],
      "execution_count": null,
      "outputs": [
        {
          "output_type": "stream",
          "name": "stdout",
          "text": [
            "clf1 Confusion Matrix\n"
          ]
        },
        {
          "output_type": "execute_result",
          "data": {
            "text/plain": [
              "Text(69.0, 0.5, 'Actual')"
            ]
          },
          "metadata": {},
          "execution_count": 274
        },
        {
          "output_type": "display_data",
          "data": {
            "image/png": "[encoded data removed]",
            "text/plain": [
              "<Figure size 720x504 with 2 Axes>"
            ]
          },
          "metadata": {
            "needs_background": "light"
          }
        }
      ]
    },
    {
      "cell_type": "code",
      "metadata": {
        "colab": {
          "base_uri": "https://localhost:8080/",
          "height": 479
        },
        "id": "t-Z5Z5-X-uzU",
        "outputId": "33b2a18d-1cd7-4fb2-8564-19b05aaf8c3e"
      },
      "source": [
        "\n",
        "print(\"clf2 Confusion Matrix\")\n",
        "plt.figure(figsize = (10,7))\n",
        "sn.heatmap(cm2, annot=True, fmt ='g')\n",
        "plt.xlabel('Predicted')\n",
        "plt.ylabel('Actual')\n",
        "\n"
      ],
      "execution_count": null,
      "outputs": [
        {
          "output_type": "stream",
          "name": "stdout",
          "text": [
            "clf2 Confusion Matrix\n"
          ]
        },
        {
          "output_type": "execute_result",
          "data": {
            "text/plain": [
              "Text(69.0, 0.5, 'Actual')"
            ]
          },
          "metadata": {},
          "execution_count": 275
        },
        {
          "output_type": "display_data",
          "data": {
            "image/png": "[encoded data removed]",
            "text/plain": [
              "<Figure size 720x504 with 2 Axes>"
            ]
          },
          "metadata": {
            "needs_background": "light"
          }
        }
      ]
    },
    {
      "cell_type": "code",
      "metadata": {
        "colab": {
          "base_uri": "https://localhost:8080/",
          "height": 480
        },
        "id": "F44ZdhNd_SrB",
        "outputId": "0a4ec70a-e5a7-4f12-8506-776521bd3435"
      },
      "source": [
        "print(\"clf3 Confusion Matrix\")\n",
        "plt.figure(figsize = (10,7))\n",
        "sn.heatmap(cm3, annot=True, fmt ='g')\n",
        "plt.xlabel('Predicted')\n",
        "plt.ylabel('Actual')"
      ],
      "execution_count": null,
      "outputs": [
        {
          "output_type": "stream",
          "name": "stdout",
          "text": [
            "clf3 Confusion Matrix\n"
          ]
        },
        {
          "output_type": "execute_result",
          "data": {
            "text/plain": [
              "Text(69.0, 0.5, 'Actual')"
            ]
          },
          "metadata": {},
          "execution_count": 276
        },
        {
          "output_type": "display_data",
          "data": {
            "image/png": "[encoded data removed]",
            "text/plain": [
              "<Figure size 720x504 with 2 Axes>"
            ]
          },
          "metadata": {
            "needs_background": "light"
          }
        }
      ]
    },
    {
      "cell_type": "markdown",
      "metadata": {
        "id": "hs9NsC0oCbUV"
      },
      "source": [
        "# **Assignment 4 Logistic Regression vs MLP Classifier**\n"
      ]
    },
    {
      "cell_type": "markdown",
      "metadata": {
        "id": "7_coGUCaDCmy"
      },
      "source": [
        "In this section I pair our best fitting model vs Assignment 4's to compare performance.\n"
      ]
    },
    {
      "cell_type": "code",
      "metadata": {
        "colab": {
          "base_uri": "https://localhost:8080/",
          "height": 143
        },
        "id": "rmnviJ4jDIiE",
        "outputId": "0a8bd19c-6a18-4322-d9c5-04d5832ab046"
      },
      "source": [
        "metrics = [[0.8925318761384335 , 0.8898128898128899, 0.8946515397082658, 0.8788501026694046, 3.7118648346379084],\n",
        "           [accuracy_score(y_test, y1_pred), recall_score(y_test, y1_pred), (tn1/(tn1+fp1)), f1_score(y_test, y1_pred), log_loss(y_test, y1_pred)],\n",
        "           [0,0,0,0,0],\n",
        "           ]\n",
        "compare_metrics = pd.DataFrame(metrics, columns = ['Accuracy', 'Sensitivity', 'Specificity', 'F1 Score', 'Log Loss'])\n",
        "compare_metrics = compare_metrics.rename(index= {0: 'Ast4'})\n",
        "compare_metrics = compare_metrics.rename(index= {1: 'clf1'})\n",
        "compare_metrics = compare_metrics.rename(index= {2: 'Ast4 - clf1'})\n",
        "compare_metrics.loc['Ast4 - clf1'] = compare_metrics.loc['Ast4'] - compare_metrics.loc['clf1']\n",
        "compare_metrics\n"
      ],
      "execution_count": null,
      "outputs": [
        {
          "output_type": "execute_result",
          "data": {
            "text/html": [
              "<div>\n",
              "<style scoped>\n",
              "    .dataframe tbody tr th:only-of-type {\n",
              "        vertical-align: middle;\n",
              "    }\n",
              "\n",
              "    .dataframe tbody tr th {\n",
              "        vertical-align: top;\n",
              "    }\n",
              "\n",
              "    .dataframe thead th {\n",
              "        text-align: right;\n",
              "    }\n",
              "</style>\n",
              "<table border=\"1\" class=\"dataframe\">\n",
              "  <thead>\n",
              "    <tr style=\"text-align: right;\">\n",
              "      <th></th>\n",
              "      <th>Accuracy</th>\n",
              "      <th>Sensitivity</th>\n",
              "      <th>Specificity</th>\n",
              "      <th>F1 Score</th>\n",
              "      <th>Log Loss</th>\n",
              "    </tr>\n",
              "  </thead>\n",
              "  <tbody>\n",
              "    <tr>\n",
              "      <th>Ast4</th>\n",
              "      <td>0.892532</td>\n",
              "      <td>0.889813</td>\n",
              "      <td>0.894652</td>\n",
              "      <td>0.878850</td>\n",
              "      <td>3.711865</td>\n",
              "    </tr>\n",
              "    <tr>\n",
              "      <th>clf1</th>\n",
              "      <td>0.986339</td>\n",
              "      <td>1.000000</td>\n",
              "      <td>0.975369</td>\n",
              "      <td>0.984894</td>\n",
              "      <td>0.471852</td>\n",
              "    </tr>\n",
              "    <tr>\n",
              "      <th>Ast4 - clf1</th>\n",
              "      <td>-0.093807</td>\n",
              "      <td>-0.110187</td>\n",
              "      <td>-0.080718</td>\n",
              "      <td>-0.106044</td>\n",
              "      <td>3.240013</td>\n",
              "    </tr>\n",
              "  </tbody>\n",
              "</table>\n",
              "</div>"
            ],
            "text/plain": [
              "             Accuracy  Sensitivity  Specificity  F1 Score  Log Loss\n",
              "Ast4         0.892532     0.889813     0.894652  0.878850  3.711865\n",
              "clf1         0.986339     1.000000     0.975369  0.984894  0.471852\n",
              "Ast4 - clf1 -0.093807    -0.110187    -0.080718 -0.106044  3.240013"
            ]
          },
          "metadata": {},
          "execution_count": 277
        }
      ]
    }
  ]
}