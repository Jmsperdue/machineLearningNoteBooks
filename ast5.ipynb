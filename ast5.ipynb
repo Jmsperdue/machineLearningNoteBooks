{
  "nbformat": 4,
  "nbformat_minor": 0,
  "metadata": {
    "colab": {
      "name": "ast5.ipynb",
      "provenance": [],
      "collapsed_sections": [],
      "include_colab_link": true
    },
    "kernelspec": {
      "display_name": "Python 3",
      "name": "python3"
    },
    "language_info": {
      "name": "python"
    }
  },
  "cells": [
    {
      "cell_type": "markdown",
      "metadata": {
        "id": "view-in-github",
        "colab_type": "text"
      },
      "source": [
        "<a href=\"https://colab.research.google.com/github/Jmsperdue/machineLearningNoteBooks/blob/multiLayerPerceptronRegressor/ast5.ipynb\" target=\"_parent\"><img src=\"https://colab.research.google.com/assets/colab-badge.svg\" alt=\"Open In Colab\"/></a>"
      ]
    },
    {
      "cell_type": "markdown",
      "metadata": {
        "id": "4lOEiSC8JeCc"
      },
      "source": [
        "# **Assignment #5**\n",
        "**James Perdue 1012457081** \n",
        "\n",
        "**Daniel Schaefer 2001714504**\n"
      ]
    },
    {
      "cell_type": "markdown",
      "metadata": {
        "id": "saAse8PnC_rS"
      },
      "source": [
        "# **Multi-Layer Perceptron (MLP) Regressor:**\n",
        "The data set we used the Auto MPG Data Set from \n",
        "https://archive.ics.uci.edu/ml/datasets/Auto+MPG \n",
        " \n",
        "With these data sets, we hope to train both models to accurately predict MPG off of the distinct \n",
        "attributes all except for car name, which is just a string and doesn’t bear any impact on \n",
        "performance and is unique in all instances. \n",
        "As stated on the website, \n",
        "“Source: \n",
        "This dataset was taken from the StatLib library which is maintained at Carnegie Mellon \n",
        "University. The dataset was used in the 1983 American Statistical Association Exposition \"\n"
      ]
    },
    {
      "cell_type": "markdown",
      "metadata": {
        "id": "zp-915jpEttU"
      },
      "source": [
        "# **Import Libraries**"
      ]
    },
    {
      "cell_type": "code",
      "metadata": {
        "id": "WwtFWBWuEoex"
      },
      "source": [
        "import pandas as pd\n",
        "import matplotlib.pyplot as plt\n",
        "import numpy as ny\n",
        "from sklearn.pipeline import Pipeline\n",
        "from sklearn.preprocessing import RobustScaler\n",
        "from sklearn.preprocessing import StandardScaler\n",
        "from sklearn.model_selection import GridSearchCV\n",
        "from sklearn.metrics import classification_report, confusion_matrix\n",
        "from sklearn.neural_network import MLPRegressor\n",
        "from sklearn.metrics import mean_squared_error\n",
        "from sklearn.metrics import mean_absolute_error\n",
        "from sklearn.metrics import r2_score"
      ],
      "execution_count": null,
      "outputs": []
    },
    {
      "cell_type": "markdown",
      "metadata": {
        "id": "agBVs3-vFPf2"
      },
      "source": [
        "# **Import Dataset**\n",
        "I removed the 6 entries that had a blank field for horsepower and had to convert the .data file to a .csv\n",
        "\n",
        "Attribute Information: \n",
        "1. mpg: continuous  \n",
        "2. cylinders: multi-valued discrete  \n",
        "3. displacement: continuous  \n",
        "4. horsepower: continuous  \n",
        "5. weight: continuous  \n",
        "6. acceleration: continuous  \n",
        "7. model year: multi-valued discrete  \n",
        "8. origin: multi-valued discrete  \n",
        "9. car name: string (unique for each instance)” \n",
        "Steps we took to preprocess the data was to convert the .data file into a .csv. I also went in and \n",
        "deleted the data instances that had blank or null values in for MPG for simplicity rather than \n",
        "making up values or inserting 0"
      ]
    },
    {
      "cell_type": "code",
      "metadata": {
        "colab": {
          "base_uri": "https://localhost:8080/",
          "height": 424
        },
        "id": "2zDJzCbsFDVz",
        "outputId": "6a09022f-cb2e-4b89-def1-607b7a3696f9"
      },
      "source": [
        "df = pd.read_csv(\"csvautompg.csv\",sep=',')\n",
        "df"
      ],
      "execution_count": null,
      "outputs": [
        {
          "output_type": "execute_result",
          "data": {
            "text/html": [
              "<div>\n",
              "<style scoped>\n",
              "    .dataframe tbody tr th:only-of-type {\n",
              "        vertical-align: middle;\n",
              "    }\n",
              "\n",
              "    .dataframe tbody tr th {\n",
              "        vertical-align: top;\n",
              "    }\n",
              "\n",
              "    .dataframe thead th {\n",
              "        text-align: right;\n",
              "    }\n",
              "</style>\n",
              "<table border=\"1\" class=\"dataframe\">\n",
              "  <thead>\n",
              "    <tr style=\"text-align: right;\">\n",
              "      <th></th>\n",
              "      <th>mpg</th>\n",
              "      <th>cylinders</th>\n",
              "      <th>displacement</th>\n",
              "      <th>horsepower</th>\n",
              "      <th>weight</th>\n",
              "      <th>acceleration</th>\n",
              "      <th>model year</th>\n",
              "      <th>origin</th>\n",
              "      <th>car name</th>\n",
              "    </tr>\n",
              "  </thead>\n",
              "  <tbody>\n",
              "    <tr>\n",
              "      <th>0</th>\n",
              "      <td>18.0</td>\n",
              "      <td>8</td>\n",
              "      <td>307.0</td>\n",
              "      <td>130</td>\n",
              "      <td>3504</td>\n",
              "      <td>12.0</td>\n",
              "      <td>70</td>\n",
              "      <td>1</td>\n",
              "      <td>chevrolet chevelle malibu</td>\n",
              "    </tr>\n",
              "    <tr>\n",
              "      <th>1</th>\n",
              "      <td>15.0</td>\n",
              "      <td>8</td>\n",
              "      <td>350.0</td>\n",
              "      <td>165</td>\n",
              "      <td>3693</td>\n",
              "      <td>11.5</td>\n",
              "      <td>70</td>\n",
              "      <td>1</td>\n",
              "      <td>buick skylark 320</td>\n",
              "    </tr>\n",
              "    <tr>\n",
              "      <th>2</th>\n",
              "      <td>18.0</td>\n",
              "      <td>8</td>\n",
              "      <td>318.0</td>\n",
              "      <td>150</td>\n",
              "      <td>3436</td>\n",
              "      <td>11.0</td>\n",
              "      <td>70</td>\n",
              "      <td>1</td>\n",
              "      <td>plymouth satellite</td>\n",
              "    </tr>\n",
              "    <tr>\n",
              "      <th>3</th>\n",
              "      <td>16.0</td>\n",
              "      <td>8</td>\n",
              "      <td>304.0</td>\n",
              "      <td>150</td>\n",
              "      <td>3433</td>\n",
              "      <td>12.0</td>\n",
              "      <td>70</td>\n",
              "      <td>1</td>\n",
              "      <td>amc rebel sst</td>\n",
              "    </tr>\n",
              "    <tr>\n",
              "      <th>4</th>\n",
              "      <td>17.0</td>\n",
              "      <td>8</td>\n",
              "      <td>302.0</td>\n",
              "      <td>140</td>\n",
              "      <td>3449</td>\n",
              "      <td>10.5</td>\n",
              "      <td>70</td>\n",
              "      <td>1</td>\n",
              "      <td>ford torino</td>\n",
              "    </tr>\n",
              "    <tr>\n",
              "      <th>...</th>\n",
              "      <td>...</td>\n",
              "      <td>...</td>\n",
              "      <td>...</td>\n",
              "      <td>...</td>\n",
              "      <td>...</td>\n",
              "      <td>...</td>\n",
              "      <td>...</td>\n",
              "      <td>...</td>\n",
              "      <td>...</td>\n",
              "    </tr>\n",
              "    <tr>\n",
              "      <th>387</th>\n",
              "      <td>27.0</td>\n",
              "      <td>4</td>\n",
              "      <td>140.0</td>\n",
              "      <td>86</td>\n",
              "      <td>2790</td>\n",
              "      <td>15.6</td>\n",
              "      <td>82</td>\n",
              "      <td>1</td>\n",
              "      <td>ford mustang gl</td>\n",
              "    </tr>\n",
              "    <tr>\n",
              "      <th>388</th>\n",
              "      <td>44.0</td>\n",
              "      <td>4</td>\n",
              "      <td>97.0</td>\n",
              "      <td>52</td>\n",
              "      <td>2130</td>\n",
              "      <td>24.6</td>\n",
              "      <td>82</td>\n",
              "      <td>2</td>\n",
              "      <td>vw pickup</td>\n",
              "    </tr>\n",
              "    <tr>\n",
              "      <th>389</th>\n",
              "      <td>32.0</td>\n",
              "      <td>4</td>\n",
              "      <td>135.0</td>\n",
              "      <td>84</td>\n",
              "      <td>2295</td>\n",
              "      <td>11.6</td>\n",
              "      <td>82</td>\n",
              "      <td>1</td>\n",
              "      <td>dodge rampage</td>\n",
              "    </tr>\n",
              "    <tr>\n",
              "      <th>390</th>\n",
              "      <td>28.0</td>\n",
              "      <td>4</td>\n",
              "      <td>120.0</td>\n",
              "      <td>79</td>\n",
              "      <td>2625</td>\n",
              "      <td>18.6</td>\n",
              "      <td>82</td>\n",
              "      <td>1</td>\n",
              "      <td>ford ranger</td>\n",
              "    </tr>\n",
              "    <tr>\n",
              "      <th>391</th>\n",
              "      <td>31.0</td>\n",
              "      <td>4</td>\n",
              "      <td>119.0</td>\n",
              "      <td>82</td>\n",
              "      <td>2720</td>\n",
              "      <td>19.4</td>\n",
              "      <td>82</td>\n",
              "      <td>1</td>\n",
              "      <td>chevy s-10</td>\n",
              "    </tr>\n",
              "  </tbody>\n",
              "</table>\n",
              "<p>392 rows × 9 columns</p>\n",
              "</div>"
            ],
            "text/plain": [
              "      mpg  cylinders  ...  origin                   car name\n",
              "0    18.0          8  ...       1  chevrolet chevelle malibu\n",
              "1    15.0          8  ...       1          buick skylark 320\n",
              "2    18.0          8  ...       1         plymouth satellite\n",
              "3    16.0          8  ...       1              amc rebel sst\n",
              "4    17.0          8  ...       1                ford torino\n",
              "..    ...        ...  ...     ...                        ...\n",
              "387  27.0          4  ...       1            ford mustang gl\n",
              "388  44.0          4  ...       2                  vw pickup\n",
              "389  32.0          4  ...       1              dodge rampage\n",
              "390  28.0          4  ...       1                ford ranger\n",
              "391  31.0          4  ...       1                 chevy s-10\n",
              "\n",
              "[392 rows x 9 columns]"
            ]
          },
          "metadata": {},
          "execution_count": 2
        }
      ]
    },
    {
      "cell_type": "markdown",
      "metadata": {
        "id": "wOoBqLiVFYyd"
      },
      "source": [
        "# **Define x and y** \n",
        "We omitted the string car name which is unique for each instance and set the r^t to MPG "
      ]
    },
    {
      "cell_type": "code",
      "metadata": {
        "id": "DmatBS3iFcnu"
      },
      "source": [
        "x=df.drop(['mpg', 'car name'], axis=1).values\n",
        "y=df['mpg'].values"
      ],
      "execution_count": null,
      "outputs": []
    },
    {
      "cell_type": "markdown",
      "metadata": {
        "id": "ePiuCHGYFw2u"
      },
      "source": [
        "# **Split the dataset into training set and test set**"
      ]
    },
    {
      "cell_type": "code",
      "metadata": {
        "id": "fSZQ7pr8Fyau"
      },
      "source": [
        "from sklearn.model_selection import train_test_split\n",
        "X_train, X_test, y_train, y_test = train_test_split(x,y , test_size=0.8, random_state=1)"
      ],
      "execution_count": null,
      "outputs": []
    },
    {
      "cell_type": "markdown",
      "metadata": {
        "id": "vUqcyHlkt5qX"
      },
      "source": [
        "# **Hyper Parameter**\n",
        "\n",
        "Rather than picking 3 arbitrary combinations of model parameters, \n",
        "\n",
        "We are using RandomizedSearchCV to tune our Hyper Parameters to find the best \n",
        "\n",
        "three performing combinations, on the bad side it does take some time about 15 seconds on average.\n",
        "\n",
        "**Original HyperParameters:**\n",
        "\n",
        "**Solver:** 'lbfgs', 'sgd', 'adam'\n",
        "\n",
        "**Learning Rate:**'constant', 'invscaling', 'adaptive'\n",
        "\n",
        "**Activator:** 'logistic', 'tanh', 'relu'\n",
        "\n",
        "**Hidden Layer Sizes:** (15,10,3), (7,7,7),(7)\n",
        "\n",
        "**Alpha:** .1, 0.001, 0.0001\n",
        "\n",
        "We had problems with the model not converging when we had all these parameters available for GridSearchCV, So We played with the hyperparameters to get them tuned with our dataset as best as possible and these are the best hyperparameters as far as speed, accuracy, and convergence."
      ]
    },
    {
      "cell_type": "code",
      "metadata": {
        "id": "E1Fvr5r5t5AF"
      },
      "source": [
        "from sklearn.model_selection import GridSearchCV\n",
        "estimator = Pipeline(steps=[(\"scaler\", StandardScaler()),(\"estimator\", MLPRegressor(max_iter=5000, early_stopping=True)),])\n",
        "hidden_layer_sizes = [(7,7,7),(7),]\n",
        "hyper_parameter = [\n",
        "                   {\n",
        "                    'estimator__solver': ['sgd'],                                                     #['lbfgs', 'sgd', 'adam']\n",
        "                    'estimator__learning_rate' : ['constant', 'adaptive'],                            #['constant', 'invscaling', 'adaptive'],\n",
        "                    'estimator__activation': ['tanh', 'relu'],                                        #['logistic', 'tanh', 'relu'], \n",
        "                    'estimator__hidden_layer_sizes': hidden_layer_sizes,\n",
        "                    'estimator__alpha': [.1, 0.001, 0.0001],                                          #,[.1, 0.001, 0.0001],\n",
        "                   },\n",
        "]\n",
        "grid = GridSearchCV( estimator, hyper_parameter, refit=True, n_jobs=-1, cv=None,)\n",
        "grid.fit(X_train, y_train)\n",
        "grid_predictions = grid.predict(X_test)"
      ],
      "execution_count": null,
      "outputs": []
    },
    {
      "cell_type": "markdown",
      "metadata": {
        "id": "qqLDDHb4Z5Ls"
      },
      "source": [
        "# **Train the Model on the training set**\n",
        "**Before we started training the model we formatted the data frame so we can grab the top three estimator parameters** \n",
        "\n",
        "We're not concerned with sorting by rank at this point we just want three to compare."
      ]
    },
    {
      "cell_type": "code",
      "metadata": {
        "colab": {
          "base_uri": "https://localhost:8080/"
        },
        "id": "1rSdmmeK1mpU",
        "outputId": "ba5ede0e-e987-487c-cc3c-374b20b6d16f"
      },
      "source": [
        "df = pd.DataFrame(grid.cv_results_)\n",
        "df = df.loc[df['rank_test_score'] <= 3]\n",
        "df = df.loc[:, ~df.columns.isin(['mean_fit_time', 'std_fit_time', 'mean_score_time', 'std_score_time', 'split0_test_score', 'split1_test_score', 'split2_test_score', 'split3_test_score', 'split4_test_score', 'mean_test_score', 'std_test_score' , 'params'])]\n",
        "df = df.reset_index(drop=True)\n",
        "regrssor1 = Pipeline(steps=[(\"scaler\", StandardScaler()), (\"mlp\",MLPRegressor(learning_rate=df.at[0, 'param_estimator__learning_rate'], random_state=1, max_iter=5000,solver=df.at[0,'param_estimator__solver'], hidden_layer_sizes=df.at[0,'param_estimator__hidden_layer_sizes'], alpha =df.at[0, 'param_estimator__alpha'], activation=df.at[0, 'param_estimator__activation'] )),])\n",
        "regrssor2 = Pipeline(steps=[(\"scaler\", StandardScaler()), (\"mlp\",MLPRegressor(learning_rate=df.at[1, 'param_estimator__learning_rate'], random_state=1, max_iter=5000,solver=df.at[1,'param_estimator__solver'], hidden_layer_sizes=df.at[1,'param_estimator__hidden_layer_sizes'], alpha =df.at[1, 'param_estimator__alpha'], activation=df.at[1, 'param_estimator__activation'] )),])\n",
        "regrssor3 = Pipeline(steps=[(\"scaler\", StandardScaler()), (\"mlp\",MLPRegressor(learning_rate=df.at[2, 'param_estimator__learning_rate'], random_state=1, max_iter=5000,solver=df.at[2,'param_estimator__solver'], hidden_layer_sizes=df.at[2,'param_estimator__hidden_layer_sizes'], alpha =df.at[2, 'param_estimator__alpha'], activation=df.at[2, 'param_estimator__activation'] )),])\n",
        "regrssor1.fit(X_train, y_train)\n",
        "regrssor2.fit(X_train, y_train)\n",
        "regrssor3.fit(X_train, y_train)"
      ],
      "execution_count": null,
      "outputs": [
        {
          "output_type": "execute_result",
          "data": {
            "text/plain": [
              "Pipeline(steps=[('scaler', StandardScaler()),\n",
              "                ('mlp',\n",
              "                 MLPRegressor(hidden_layer_sizes=(7, 7, 7), max_iter=5000,\n",
              "                              random_state=1, solver='sgd'))])"
            ]
          },
          "metadata": {},
          "execution_count": 6
        }
      ]
    },
    {
      "cell_type": "markdown",
      "metadata": {
        "id": "uiI8jO2ibRdf"
      },
      "source": [
        "# **Table of Convergence** "
      ]
    },
    {
      "cell_type": "code",
      "metadata": {
        "colab": {
          "base_uri": "https://localhost:8080/",
          "height": 143
        },
        "id": "Q123ZFIncGuD",
        "outputId": "df461932-dd9f-4ce1-f448-00d460701b96"
      },
      "source": [
        "records = [regrssor1.named_steps[\"mlp\"].get_params() , regrssor2.named_steps[\"mlp\"].get_params(), regrssor3.named_steps[\"mlp\"].get_params() ]\n",
        "iter_array = [regrssor1.named_steps[\"mlp\"].n_iter_ , regrssor2.named_steps[\"mlp\"].n_iter_, regrssor3.named_steps[\"mlp\"].n_iter_]\n",
        "model_array = [\"regrssor1\", \"regrssor2\", \"regrssor3\"]\n",
        "df = pd.DataFrame(records)\n",
        "df.insert(0,\"Model Name\", model_array)\n",
        "df.insert(1,\"Iterations till Convergence\", iter_array)\n",
        "converge = df.loc[:, ~df.columns.isin(['batch_size', 'beta_1', 'beta_2', 'early_stopping', 'epsilon', 'max_fun', 'max_iter', 'momentum', 'n_iter_no_change', 'nesterovs_momentum', 'power_t', 'random_state', 'shuffle', 'tol', 'validation_fraction', 'verbose', 'warm_start', 'learning_rate_init'])]\n",
        "converge"
      ],
      "execution_count": null,
      "outputs": [
        {
          "output_type": "execute_result",
          "data": {
            "text/html": [
              "<div>\n",
              "<style scoped>\n",
              "    .dataframe tbody tr th:only-of-type {\n",
              "        vertical-align: middle;\n",
              "    }\n",
              "\n",
              "    .dataframe tbody tr th {\n",
              "        vertical-align: top;\n",
              "    }\n",
              "\n",
              "    .dataframe thead th {\n",
              "        text-align: right;\n",
              "    }\n",
              "</style>\n",
              "<table border=\"1\" class=\"dataframe\">\n",
              "  <thead>\n",
              "    <tr style=\"text-align: right;\">\n",
              "      <th></th>\n",
              "      <th>Model Name</th>\n",
              "      <th>Iterations till Convergence</th>\n",
              "      <th>activation</th>\n",
              "      <th>alpha</th>\n",
              "      <th>hidden_layer_sizes</th>\n",
              "      <th>learning_rate</th>\n",
              "      <th>solver</th>\n",
              "    </tr>\n",
              "  </thead>\n",
              "  <tbody>\n",
              "    <tr>\n",
              "      <th>0</th>\n",
              "      <td>regrssor1</td>\n",
              "      <td>4071</td>\n",
              "      <td>tanh</td>\n",
              "      <td>0.0001</td>\n",
              "      <td>7</td>\n",
              "      <td>constant</td>\n",
              "      <td>sgd</td>\n",
              "    </tr>\n",
              "    <tr>\n",
              "      <th>1</th>\n",
              "      <td>regrssor2</td>\n",
              "      <td>2416</td>\n",
              "      <td>relu</td>\n",
              "      <td>0.0010</td>\n",
              "      <td>(7, 7, 7)</td>\n",
              "      <td>adaptive</td>\n",
              "      <td>sgd</td>\n",
              "    </tr>\n",
              "    <tr>\n",
              "      <th>2</th>\n",
              "      <td>regrssor3</td>\n",
              "      <td>2362</td>\n",
              "      <td>relu</td>\n",
              "      <td>0.0001</td>\n",
              "      <td>(7, 7, 7)</td>\n",
              "      <td>constant</td>\n",
              "      <td>sgd</td>\n",
              "    </tr>\n",
              "  </tbody>\n",
              "</table>\n",
              "</div>"
            ],
            "text/plain": [
              "  Model Name  Iterations till Convergence  ... learning_rate  solver\n",
              "0  regrssor1                         4071  ...      constant     sgd\n",
              "1  regrssor2                         2416  ...      adaptive     sgd\n",
              "2  regrssor3                         2362  ...      constant     sgd\n",
              "\n",
              "[3 rows x 7 columns]"
            ]
          },
          "metadata": {},
          "execution_count": 7
        }
      ]
    },
    {
      "cell_type": "markdown",
      "metadata": {
        "id": "-P6Lcqf85Vad"
      },
      "source": [
        "# **Predict the training set results and test set results**\n"
      ]
    },
    {
      "cell_type": "code",
      "metadata": {
        "id": "e8LqW4FC5Z31"
      },
      "source": [
        "y1_pred = regrssor1.predict(X_train)\n",
        "y2_pred = regrssor2.predict(X_train)\n",
        "y3_pred = regrssor3.predict(X_train)\n",
        "test1y_pred = regrssor1.predict(X_test)\n",
        "test2y_pred = regrssor2.predict(X_test)\n",
        "test3y_pred = regrssor3.predict(X_test)"
      ],
      "execution_count": null,
      "outputs": []
    },
    {
      "cell_type": "markdown",
      "metadata": {
        "id": "Xc9OXeznbX0P"
      },
      "source": [
        "# **Table of Evaluation Metrics for the Test Dataset and Training Dataset**"
      ]
    },
    {
      "cell_type": "code",
      "metadata": {
        "colab": {
          "base_uri": "https://localhost:8080/",
          "height": 180
        },
        "id": "TvZ4JeIp1hEK",
        "outputId": "4aea2a43-53a5-4445-bfaa-0fff3d5efb3c"
      },
      "source": [
        "metrics = [['regrssor1', mean_squared_error(y_test, test1y_pred), mean_absolute_error(y_test, test1y_pred), r2_score(y_test, test1y_pred)],['regrssor2', mean_squared_error(y_test, test2y_pred),mean_absolute_error(y_test, test2y_pred),r2_score(y_test, test2y_pred)],['regrssor3', mean_squared_error(y_test, test3y_pred), mean_absolute_error(y_test, test3y_pred),r2_score(y_test, test3y_pred)]]\n",
        "test_metrics = pd.DataFrame(metrics, columns = ['Model Name', 'MSE', 'MAE', 'R2'])\n",
        "metrics = [['regrssor1', mean_squared_error(y_train, y1_pred), mean_absolute_error(y_train, y1_pred), r2_score(y_train, y1_pred)],['regrssor2', mean_squared_error(y_train, y2_pred),mean_absolute_error(y_train, y2_pred),r2_score(y_train, y2_pred)],['regrssor3', mean_squared_error(y_train, y3_pred), mean_absolute_error(y_train, y3_pred),r2_score(y_train, y3_pred)]]\n",
        "train_metrics = pd.DataFrame(metrics, columns = ['Model Name', 'MSE', 'MAE', 'R2'])\n",
        "print(\"Test Dataset\\n\")\n",
        "test_metrics"
      ],
      "execution_count": null,
      "outputs": [
        {
          "output_type": "stream",
          "name": "stdout",
          "text": [
            "Test Dataset\n",
            "\n"
          ]
        },
        {
          "output_type": "execute_result",
          "data": {
            "text/html": [
              "<div>\n",
              "<style scoped>\n",
              "    .dataframe tbody tr th:only-of-type {\n",
              "        vertical-align: middle;\n",
              "    }\n",
              "\n",
              "    .dataframe tbody tr th {\n",
              "        vertical-align: top;\n",
              "    }\n",
              "\n",
              "    .dataframe thead th {\n",
              "        text-align: right;\n",
              "    }\n",
              "</style>\n",
              "<table border=\"1\" class=\"dataframe\">\n",
              "  <thead>\n",
              "    <tr style=\"text-align: right;\">\n",
              "      <th></th>\n",
              "      <th>Model Name</th>\n",
              "      <th>MSE</th>\n",
              "      <th>MAE</th>\n",
              "      <th>R2</th>\n",
              "    </tr>\n",
              "  </thead>\n",
              "  <tbody>\n",
              "    <tr>\n",
              "      <th>0</th>\n",
              "      <td>regrssor1</td>\n",
              "      <td>12.615433</td>\n",
              "      <td>2.644191</td>\n",
              "      <td>0.799848</td>\n",
              "    </tr>\n",
              "    <tr>\n",
              "      <th>1</th>\n",
              "      <td>regrssor2</td>\n",
              "      <td>10.966274</td>\n",
              "      <td>2.424678</td>\n",
              "      <td>0.826013</td>\n",
              "    </tr>\n",
              "    <tr>\n",
              "      <th>2</th>\n",
              "      <td>regrssor3</td>\n",
              "      <td>10.964056</td>\n",
              "      <td>2.424278</td>\n",
              "      <td>0.826048</td>\n",
              "    </tr>\n",
              "  </tbody>\n",
              "</table>\n",
              "</div>"
            ],
            "text/plain": [
              "  Model Name        MSE       MAE        R2\n",
              "0  regrssor1  12.615433  2.644191  0.799848\n",
              "1  regrssor2  10.966274  2.424678  0.826013\n",
              "2  regrssor3  10.964056  2.424278  0.826048"
            ]
          },
          "metadata": {},
          "execution_count": 9
        }
      ]
    },
    {
      "cell_type": "code",
      "metadata": {
        "colab": {
          "base_uri": "https://localhost:8080/",
          "height": 180
        },
        "id": "Ldap6DgZ1mh7",
        "outputId": "d1fe794d-26c9-4c73-d389-072fa0413af6"
      },
      "source": [
        "print(\"Training Dataset\\n\")\n",
        "train_metrics"
      ],
      "execution_count": null,
      "outputs": [
        {
          "output_type": "stream",
          "name": "stdout",
          "text": [
            "Training Dataset\n",
            "\n"
          ]
        },
        {
          "output_type": "execute_result",
          "data": {
            "text/html": [
              "<div>\n",
              "<style scoped>\n",
              "    .dataframe tbody tr th:only-of-type {\n",
              "        vertical-align: middle;\n",
              "    }\n",
              "\n",
              "    .dataframe tbody tr th {\n",
              "        vertical-align: top;\n",
              "    }\n",
              "\n",
              "    .dataframe thead th {\n",
              "        text-align: right;\n",
              "    }\n",
              "</style>\n",
              "<table border=\"1\" class=\"dataframe\">\n",
              "  <thead>\n",
              "    <tr style=\"text-align: right;\">\n",
              "      <th></th>\n",
              "      <th>Model Name</th>\n",
              "      <th>MSE</th>\n",
              "      <th>MAE</th>\n",
              "      <th>R2</th>\n",
              "    </tr>\n",
              "  </thead>\n",
              "  <tbody>\n",
              "    <tr>\n",
              "      <th>0</th>\n",
              "      <td>regrssor1</td>\n",
              "      <td>0.651338</td>\n",
              "      <td>0.643469</td>\n",
              "      <td>0.987350</td>\n",
              "    </tr>\n",
              "    <tr>\n",
              "      <th>1</th>\n",
              "      <td>regrssor2</td>\n",
              "      <td>0.563804</td>\n",
              "      <td>0.600940</td>\n",
              "      <td>0.989050</td>\n",
              "    </tr>\n",
              "    <tr>\n",
              "      <th>2</th>\n",
              "      <td>regrssor3</td>\n",
              "      <td>0.565185</td>\n",
              "      <td>0.602140</td>\n",
              "      <td>0.989023</td>\n",
              "    </tr>\n",
              "  </tbody>\n",
              "</table>\n",
              "</div>"
            ],
            "text/plain": [
              "  Model Name       MSE       MAE        R2\n",
              "0  regrssor1  0.651338  0.643469  0.987350\n",
              "1  regrssor2  0.563804  0.600940  0.989050\n",
              "2  regrssor3  0.565185  0.602140  0.989023"
            ]
          },
          "metadata": {},
          "execution_count": 10
        }
      ]
    },
    {
      "cell_type": "markdown",
      "metadata": {
        "id": "Yygr7HiFJ1k7"
      },
      "source": [
        "# **Predicted Values Vs Actual Values**"
      ]
    },
    {
      "cell_type": "code",
      "metadata": {
        "colab": {
          "base_uri": "https://localhost:8080/",
          "height": 424
        },
        "id": "aZrkE18_MIKT",
        "outputId": "46ee4de2-7952-4b2f-9bef-0aa27459309c"
      },
      "source": [
        "pred_y_df=pd.DataFrame({'Actual MPG':y_test, 'regrssor1 y^t':test1y_pred, 'Difference1': y_test-test1y_pred, 'regrssor2 y^t':test2y_pred, 'Difference2': y_test-test2y_pred, 'regrssor3 y^t':test3y_pred, 'Difference3': y_test-test3y_pred})\n",
        "pred_y_df"
      ],
      "execution_count": null,
      "outputs": [
        {
          "output_type": "execute_result",
          "data": {
            "text/html": [
              "<div>\n",
              "<style scoped>\n",
              "    .dataframe tbody tr th:only-of-type {\n",
              "        vertical-align: middle;\n",
              "    }\n",
              "\n",
              "    .dataframe tbody tr th {\n",
              "        vertical-align: top;\n",
              "    }\n",
              "\n",
              "    .dataframe thead th {\n",
              "        text-align: right;\n",
              "    }\n",
              "</style>\n",
              "<table border=\"1\" class=\"dataframe\">\n",
              "  <thead>\n",
              "    <tr style=\"text-align: right;\">\n",
              "      <th></th>\n",
              "      <th>Actual MPG</th>\n",
              "      <th>regrssor1 y^t</th>\n",
              "      <th>Difference1</th>\n",
              "      <th>regrssor2 y^t</th>\n",
              "      <th>Difference2</th>\n",
              "      <th>regrssor3 y^t</th>\n",
              "      <th>Difference3</th>\n",
              "    </tr>\n",
              "  </thead>\n",
              "  <tbody>\n",
              "    <tr>\n",
              "      <th>0</th>\n",
              "      <td>23.0</td>\n",
              "      <td>19.019481</td>\n",
              "      <td>3.980519</td>\n",
              "      <td>22.400873</td>\n",
              "      <td>0.599127</td>\n",
              "      <td>22.399721</td>\n",
              "      <td>0.600279</td>\n",
              "    </tr>\n",
              "    <tr>\n",
              "      <th>1</th>\n",
              "      <td>29.0</td>\n",
              "      <td>26.019011</td>\n",
              "      <td>2.980989</td>\n",
              "      <td>26.507434</td>\n",
              "      <td>2.492566</td>\n",
              "      <td>26.509200</td>\n",
              "      <td>2.490800</td>\n",
              "    </tr>\n",
              "    <tr>\n",
              "      <th>2</th>\n",
              "      <td>32.4</td>\n",
              "      <td>33.137711</td>\n",
              "      <td>-0.737711</td>\n",
              "      <td>34.328320</td>\n",
              "      <td>-1.928320</td>\n",
              "      <td>34.328999</td>\n",
              "      <td>-1.928999</td>\n",
              "    </tr>\n",
              "    <tr>\n",
              "      <th>3</th>\n",
              "      <td>19.0</td>\n",
              "      <td>23.031938</td>\n",
              "      <td>-4.031938</td>\n",
              "      <td>21.277331</td>\n",
              "      <td>-2.277331</td>\n",
              "      <td>21.276138</td>\n",
              "      <td>-2.276138</td>\n",
              "    </tr>\n",
              "    <tr>\n",
              "      <th>4</th>\n",
              "      <td>38.0</td>\n",
              "      <td>35.925165</td>\n",
              "      <td>2.074835</td>\n",
              "      <td>39.021756</td>\n",
              "      <td>-1.021756</td>\n",
              "      <td>39.025393</td>\n",
              "      <td>-1.025393</td>\n",
              "    </tr>\n",
              "    <tr>\n",
              "      <th>...</th>\n",
              "      <td>...</td>\n",
              "      <td>...</td>\n",
              "      <td>...</td>\n",
              "      <td>...</td>\n",
              "      <td>...</td>\n",
              "      <td>...</td>\n",
              "      <td>...</td>\n",
              "    </tr>\n",
              "    <tr>\n",
              "      <th>309</th>\n",
              "      <td>26.0</td>\n",
              "      <td>28.618199</td>\n",
              "      <td>-2.618199</td>\n",
              "      <td>27.052679</td>\n",
              "      <td>-1.052679</td>\n",
              "      <td>27.054060</td>\n",
              "      <td>-1.054060</td>\n",
              "    </tr>\n",
              "    <tr>\n",
              "      <th>310</th>\n",
              "      <td>18.0</td>\n",
              "      <td>17.374404</td>\n",
              "      <td>0.625596</td>\n",
              "      <td>17.371426</td>\n",
              "      <td>0.628574</td>\n",
              "      <td>17.370684</td>\n",
              "      <td>0.629316</td>\n",
              "    </tr>\n",
              "    <tr>\n",
              "      <th>311</th>\n",
              "      <td>34.0</td>\n",
              "      <td>34.357076</td>\n",
              "      <td>-0.357076</td>\n",
              "      <td>36.971336</td>\n",
              "      <td>-2.971336</td>\n",
              "      <td>36.972768</td>\n",
              "      <td>-2.972768</td>\n",
              "    </tr>\n",
              "    <tr>\n",
              "      <th>312</th>\n",
              "      <td>37.3</td>\n",
              "      <td>31.058356</td>\n",
              "      <td>6.241644</td>\n",
              "      <td>30.642236</td>\n",
              "      <td>6.657764</td>\n",
              "      <td>30.647616</td>\n",
              "      <td>6.652384</td>\n",
              "    </tr>\n",
              "    <tr>\n",
              "      <th>313</th>\n",
              "      <td>22.0</td>\n",
              "      <td>18.077966</td>\n",
              "      <td>3.922034</td>\n",
              "      <td>19.239400</td>\n",
              "      <td>2.760600</td>\n",
              "      <td>19.238577</td>\n",
              "      <td>2.761423</td>\n",
              "    </tr>\n",
              "  </tbody>\n",
              "</table>\n",
              "<p>314 rows × 7 columns</p>\n",
              "</div>"
            ],
            "text/plain": [
              "     Actual MPG  regrssor1 y^t  ...  regrssor3 y^t  Difference3\n",
              "0          23.0      19.019481  ...      22.399721     0.600279\n",
              "1          29.0      26.019011  ...      26.509200     2.490800\n",
              "2          32.4      33.137711  ...      34.328999    -1.928999\n",
              "3          19.0      23.031938  ...      21.276138    -2.276138\n",
              "4          38.0      35.925165  ...      39.025393    -1.025393\n",
              "..          ...            ...  ...            ...          ...\n",
              "309        26.0      28.618199  ...      27.054060    -1.054060\n",
              "310        18.0      17.374404  ...      17.370684     0.629316\n",
              "311        34.0      34.357076  ...      36.972768    -2.972768\n",
              "312        37.3      31.058356  ...      30.647616     6.652384\n",
              "313        22.0      18.077966  ...      19.238577     2.761423\n",
              "\n",
              "[314 rows x 7 columns]"
            ]
          },
          "metadata": {},
          "execution_count": 11
        }
      ]
    }
  ]
}